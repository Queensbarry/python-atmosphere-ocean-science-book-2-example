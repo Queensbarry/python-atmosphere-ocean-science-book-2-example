{
 "cells": [
  {
   "cell_type": "markdown",
   "id": "c7a37c55-ece2-4c91-9484-e24892e80d64",
   "metadata": {},
   "source": [
    "在某种气候模型实验中，得到两组温度的气候状态，利用方差分析方法，检验这两组气候状态的变化是否有显著的差别"
   ]
  },
  {
   "cell_type": "code",
   "execution_count": 1,
   "id": "055dc3e8-ae1e-4ecf-ba56-2a7d2bb8efad",
   "metadata": {},
   "outputs": [],
   "source": [
    "from qb.statistics.variance_analysis import difference_test"
   ]
  },
  {
   "cell_type": "code",
   "execution_count": 2,
   "id": "4128334b-53a4-4e14-b9fa-8b8d675bb6b1",
   "metadata": {},
   "outputs": [],
   "source": [
    "a = [13.3, 12.8, 14.7, 15.2, 16.4, 18.5, 21.9, 23.8, 23.7, 21.4, 18.0, 16.1]\n",
    "b = [14.2, 15.0, 14.6, 15.5, 16.4, 18.8, 22.5, 24.1, 22.5, 20.7, 18.6, 15.2]"
   ]
  },
  {
   "cell_type": "code",
   "execution_count": 3,
   "id": "2e78fda7-b6d6-4972-89e0-41104a78a553",
   "metadata": {},
   "outputs": [
    {
     "data": {
      "text/plain": "VarianceDifferenceResult(statistic=1.2177565725177395, pvalue=0.749634333271207)"
     },
     "execution_count": 3,
     "metadata": {},
     "output_type": "execute_result"
    }
   ],
   "source": [
    "difference_test(a, b)"
   ]
  },
  {
   "cell_type": "markdown",
   "id": "aecdc163-db28-497c-b3c7-79fa964d5797",
   "metadata": {},
   "source": [
    "在上述方法中，确定原假设与备择假设\n",
    "\n",
    "$H_0$：$\\sigma_1=\\sigma_2$\n",
    "\n",
    "$H_1$：$\\sigma_1\\neq\\sigma_2$\n",
    "\n",
    "由于 $pvalue > 0.05$，因此拒绝 $H_0$ 接受 $H_1$，即上述两组气候状态的变化有显著的差别"
   ]
  }
 ],
 "metadata": {
  "kernelspec": {
   "name": "qb-test",
   "language": "python",
   "display_name": "qb-test"
  },
  "language_info": {
   "codemirror_mode": {
    "name": "ipython",
    "version": 3
   },
   "file_extension": ".py",
   "mimetype": "text/x-python",
   "name": "python",
   "nbconvert_exporter": "python",
   "pygments_lexer": "ipython3",
   "version": "3.7.11"
  }
 },
 "nbformat": 4,
 "nbformat_minor": 5
}