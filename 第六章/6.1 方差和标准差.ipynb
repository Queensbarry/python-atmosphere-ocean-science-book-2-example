{
 "cells": [
  {
   "cell_type": "markdown",
   "id": "d56d47c2-e7d2-462b-b72f-dc75507cfc7e",
   "metadata": {},
   "source": [
    "计算某气象站某日逐时（0~24h）2m 气温（℃）的标准差和方差"
   ]
  },
  {
   "cell_type": "code",
   "execution_count": 1,
   "id": "3543bf94-0e28-4b7d-8625-f12891d0fcad",
   "metadata": {},
   "outputs": [],
   "source": [
    "import pandas as pd"
   ]
  },
  {
   "cell_type": "code",
   "execution_count": 2,
   "id": "0d7e368a-0e32-4e46-a6ab-41513976f449",
   "metadata": {},
   "outputs": [],
   "source": [
    "s = pd.Series(\n",
    "    data=[\n",
    "        13.3, 10.8, 9.9, 9.2, 8.4, 7.7, 7.1, 6.9, 6.6, 6.4, \n",
    "        6.2, 6.0, 8.2, 11.2, 13.1, 15.0, 17.0, 19.1, 20.9, 20.0, \n",
    "        19.0, 18.0, 16.8, 15.2\n",
    "    ],\n",
    "    index=[f'{i + 1}h' for i in range(24)]\n",
    ")"
   ]
  },
  {
   "cell_type": "code",
   "execution_count": 3,
   "id": "1df69ff4-1455-4f4b-a033-42733b800b6d",
   "metadata": {},
   "outputs": [
    {
     "data": {
      "text/plain": "1h     13.3\n2h     10.8\n3h      9.9\n4h      9.2\n5h      8.4\n6h      7.7\n7h      7.1\n8h      6.9\n9h      6.6\n10h     6.4\n11h     6.2\n12h     6.0\n13h     8.2\n14h    11.2\n15h    13.1\n16h    15.0\n17h    17.0\n18h    19.1\n19h    20.9\n20h    20.0\n21h    19.0\n22h    18.0\n23h    16.8\n24h    15.2\ndtype: float64"
     },
     "execution_count": 3,
     "metadata": {},
     "output_type": "execute_result"
    }
   ],
   "source": [
    "s"
   ]
  },
  {
   "cell_type": "markdown",
   "id": "a8df0f7b-25c7-46ee-b1be-dd27ff4ee7f7",
   "metadata": {},
   "source": [
    "直接使用 pandas 中的 Dataframe"
   ]
  },
  {
   "cell_type": "code",
   "execution_count": 4,
   "id": "5142fd73-7de3-410d-8c81-85bb8432c40f",
   "metadata": {},
   "outputs": [
    {
     "data": {
      "text/plain": "25.58840579710145"
     },
     "execution_count": 4,
     "metadata": {},
     "output_type": "execute_result"
    }
   ],
   "source": [
    "# 方差\n",
    "s.var()"
   ]
  },
  {
   "cell_type": "code",
   "execution_count": 5,
   "id": "b86026db-d1ec-4646-a401-5c37c1797080",
   "metadata": {},
   "outputs": [
    {
     "data": {
      "text/plain": "5.058498373737156"
     },
     "execution_count": 5,
     "metadata": {},
     "output_type": "execute_result"
    }
   ],
   "source": [
    "# 标准差\n",
    "s.std()"
   ]
  },
  {
   "cell_type": "markdown",
   "id": "721ca2f8-bdc1-479f-ab72-f838789c7c95",
   "metadata": {},
   "source": [
    "先转为 numpy 数组后使用"
   ]
  },
  {
   "cell_type": "code",
   "execution_count": 6,
   "id": "9c5b55d8-1b9e-41b1-aba8-ebeddadaab97",
   "metadata": {},
   "outputs": [],
   "source": [
    "temperature = s.to_numpy()"
   ]
  },
  {
   "cell_type": "code",
   "execution_count": 7,
   "id": "351771e9-c217-4e8e-ba7a-9186e854659b",
   "metadata": {},
   "outputs": [
    {
     "data": {
      "text/plain": "array([13.3, 10.8,  9.9,  9.2,  8.4,  7.7,  7.1,  6.9,  6.6,  6.4,  6.2,\n        6. ,  8.2, 11.2, 13.1, 15. , 17. , 19.1, 20.9, 20. , 19. , 18. ,\n       16.8, 15.2])"
     },
     "execution_count": 7,
     "metadata": {},
     "output_type": "execute_result"
    }
   ],
   "source": [
    "temperature"
   ]
  },
  {
   "cell_type": "code",
   "execution_count": 8,
   "id": "171f6654-49f3-4239-8781-c0ce4a4761ec",
   "metadata": {},
   "outputs": [
    {
     "data": {
      "text/plain": "24.522222222222222"
     },
     "execution_count": 8,
     "metadata": {},
     "output_type": "execute_result"
    }
   ],
   "source": [
    "# 方差\n",
    "temperature.var()"
   ]
  },
  {
   "cell_type": "code",
   "execution_count": 9,
   "id": "e02caffd-0579-452c-bbfc-e20222326a14",
   "metadata": {},
   "outputs": [
    {
     "data": {
      "text/plain": "4.951991742947702"
     },
     "execution_count": 9,
     "metadata": {},
     "output_type": "execute_result"
    }
   ],
   "source": [
    "# 标准差\n",
    "temperature.std()"
   ]
  },
  {
   "cell_type": "markdown",
   "id": "563cb2c3-4c2a-48ec-bfac-fe8201cd2dd1",
   "metadata": {},
   "source": [
    "造成上述方差和标准差不一致的情况是由于 `numpy` 中就是样本本身的方差，而 `pandas` 中所求的是样本的无偏方差\n",
    "\n",
    "对于 `numpy` 有：\n",
    "$$\\sigma^2=\\frac{\\sum_{i=1}^{N}(x_i-\\overline{x})}{N}$$\n",
    "\n",
    "对于 `scipy` 有：\n",
    "$$\\sigma^2=\\frac{\\sum_{i=1}^{N}(x_i-\\overline{x})}{N-1}$$"
   ]
  },
  {
   "cell_type": "markdown",
   "id": "11e0fc3f-a1d9-4e2c-947c-6575ff493e7a",
   "metadata": {},
   "source": [
    "如果需要在 `numpy` 中计算无偏估计的方差和标准差，则可以使用"
   ]
  },
  {
   "cell_type": "code",
   "execution_count": 10,
   "id": "7e3b8b2f-3f8c-48ed-a631-49c11e464c56",
   "metadata": {},
   "outputs": [
    {
     "data": {
      "text/plain": "25.588405797101448"
     },
     "execution_count": 10,
     "metadata": {},
     "output_type": "execute_result"
    }
   ],
   "source": [
    "# 无偏估计的方差\n",
    "temperature.var(ddof=1)"
   ]
  },
  {
   "cell_type": "code",
   "execution_count": 11,
   "id": "edef3201-4f45-4966-8835-3b3cc39def13",
   "metadata": {},
   "outputs": [
    {
     "data": {
      "text/plain": "5.058498373737155"
     },
     "execution_count": 11,
     "metadata": {},
     "output_type": "execute_result"
    }
   ],
   "source": [
    "# 无偏估计的标准差\n",
    "temperature.std(ddof=1)"
   ]
  }
 ],
 "metadata": {
  "kernelspec": {
   "display_name": "qb-test",
   "language": "python",
   "name": "qb-test"
  },
  "language_info": {
   "codemirror_mode": {
    "name": "ipython",
    "version": 3
   },
   "file_extension": ".py",
   "mimetype": "text/x-python",
   "name": "python",
   "nbconvert_exporter": "python",
   "pygments_lexer": "ipython3",
   "version": "3.7.11"
  }
 },
 "nbformat": 4,
 "nbformat_minor": 5
}