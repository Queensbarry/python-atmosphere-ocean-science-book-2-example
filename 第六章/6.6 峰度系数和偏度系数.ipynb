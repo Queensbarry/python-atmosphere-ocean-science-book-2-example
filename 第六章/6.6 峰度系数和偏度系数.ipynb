{
 "cells": [
  {
   "cell_type": "markdown",
   "id": "6399dd42-5ba2-42e3-986d-7865b1a16288",
   "metadata": {},
   "source": [
    "计算 1981 年 1 月至 2019 年 12 月 NINO3 指数的峰度系数和偏度系数"
   ]
  },
  {
   "cell_type": "code",
   "execution_count": 1,
   "id": "17134600-0883-4318-a097-865476548bb3",
   "metadata": {},
   "outputs": [],
   "source": [
    "import pandas as pd\n",
    "import scipy as sp\n",
    "import scipy.stats\n",
    "from datetime import datetime\n",
    "import matplotlib.pyplot as plt\n",
    "%matplotlib inline"
   ]
  },
  {
   "cell_type": "code",
   "execution_count": 2,
   "id": "79dc0a33-ec1a-462d-8f50-97fe18e72177",
   "metadata": {},
   "outputs": [],
   "source": [
    "# https://ftp.cpc.ncep.noaa.gov/wd52dg/data/indices/sstoi.indices\n",
    "DATA_PATH = './data/sstoi.indices'"
   ]
  },
  {
   "cell_type": "code",
   "execution_count": 3,
   "id": "0beca9eb-92b0-4de8-93a7-cc5881d5a2ae",
   "metadata": {},
   "outputs": [],
   "source": [
    "with open(DATA_PATH, 'r+') as f:\n",
    "    old = f.read()\n",
    "    if old[: 2] != '  ':\n",
    "        f.seek(0)\n",
    "        f.write('  ')\n",
    "        f.write(old)"
   ]
  },
  {
   "cell_type": "code",
   "execution_count": 4,
   "id": "20e13cd5-ae72-4289-a978-6aaaa86d3b90",
   "metadata": {},
   "outputs": [],
   "source": [
    "df = pd.read_fwf(DATA_PATH)"
   ]
  },
  {
   "cell_type": "code",
   "execution_count": 5,
   "id": "23d96900-4110-46d2-a0d5-6e646d0960ab",
   "metadata": {},
   "outputs": [
    {
     "data": {
      "text/html": [
       "<div>\n",
       "<style scoped>\n",
       "    .dataframe tbody tr th:only-of-type {\n",
       "        vertical-align: middle;\n",
       "    }\n",
       "\n",
       "    .dataframe tbody tr th {\n",
       "        vertical-align: top;\n",
       "    }\n",
       "\n",
       "    .dataframe thead th {\n",
       "        text-align: right;\n",
       "    }\n",
       "</style>\n",
       "<table border=\"1\" class=\"dataframe\">\n",
       "  <thead>\n",
       "    <tr style=\"text-align: right;\">\n",
       "      <th></th>\n",
       "      <th>YR</th>\n",
       "      <th>MON</th>\n",
       "      <th>NINO1+2</th>\n",
       "      <th>ANOM</th>\n",
       "      <th>NINO3</th>\n",
       "      <th>ANOM.1</th>\n",
       "      <th>NINO4</th>\n",
       "      <th>ANOM.2</th>\n",
       "      <th>NINO3.4</th>\n",
       "      <th>ANOM.3</th>\n",
       "    </tr>\n",
       "  </thead>\n",
       "  <tbody>\n",
       "    <tr>\n",
       "      <th>0</th>\n",
       "      <td>1982</td>\n",
       "      <td>1</td>\n",
       "      <td>24.29</td>\n",
       "      <td>-0.17</td>\n",
       "      <td>25.87</td>\n",
       "      <td>0.24</td>\n",
       "      <td>28.30</td>\n",
       "      <td>0.00</td>\n",
       "      <td>26.72</td>\n",
       "      <td>0.15</td>\n",
       "    </tr>\n",
       "    <tr>\n",
       "      <th>1</th>\n",
       "      <td>1982</td>\n",
       "      <td>2</td>\n",
       "      <td>25.49</td>\n",
       "      <td>-0.58</td>\n",
       "      <td>26.38</td>\n",
       "      <td>0.01</td>\n",
       "      <td>28.21</td>\n",
       "      <td>0.11</td>\n",
       "      <td>26.70</td>\n",
       "      <td>-0.02</td>\n",
       "    </tr>\n",
       "    <tr>\n",
       "      <th>2</th>\n",
       "      <td>1982</td>\n",
       "      <td>3</td>\n",
       "      <td>25.21</td>\n",
       "      <td>-1.31</td>\n",
       "      <td>26.98</td>\n",
       "      <td>-0.16</td>\n",
       "      <td>28.41</td>\n",
       "      <td>0.22</td>\n",
       "      <td>27.20</td>\n",
       "      <td>-0.02</td>\n",
       "    </tr>\n",
       "    <tr>\n",
       "      <th>3</th>\n",
       "      <td>1982</td>\n",
       "      <td>4</td>\n",
       "      <td>24.50</td>\n",
       "      <td>-0.97</td>\n",
       "      <td>27.68</td>\n",
       "      <td>0.18</td>\n",
       "      <td>28.92</td>\n",
       "      <td>0.42</td>\n",
       "      <td>28.02</td>\n",
       "      <td>0.24</td>\n",
       "    </tr>\n",
       "    <tr>\n",
       "      <th>4</th>\n",
       "      <td>1982</td>\n",
       "      <td>5</td>\n",
       "      <td>23.97</td>\n",
       "      <td>-0.23</td>\n",
       "      <td>27.79</td>\n",
       "      <td>0.71</td>\n",
       "      <td>29.49</td>\n",
       "      <td>0.70</td>\n",
       "      <td>28.54</td>\n",
       "      <td>0.69</td>\n",
       "    </tr>\n",
       "    <tr>\n",
       "      <th>...</th>\n",
       "      <td>...</td>\n",
       "      <td>...</td>\n",
       "      <td>...</td>\n",
       "      <td>...</td>\n",
       "      <td>...</td>\n",
       "      <td>...</td>\n",
       "      <td>...</td>\n",
       "      <td>...</td>\n",
       "      <td>...</td>\n",
       "      <td>...</td>\n",
       "    </tr>\n",
       "    <tr>\n",
       "      <th>473</th>\n",
       "      <td>2021</td>\n",
       "      <td>6</td>\n",
       "      <td>23.12</td>\n",
       "      <td>0.12</td>\n",
       "      <td>26.36</td>\n",
       "      <td>-0.18</td>\n",
       "      <td>28.91</td>\n",
       "      <td>-0.11</td>\n",
       "      <td>27.54</td>\n",
       "      <td>-0.22</td>\n",
       "    </tr>\n",
       "    <tr>\n",
       "      <th>474</th>\n",
       "      <td>2021</td>\n",
       "      <td>7</td>\n",
       "      <td>22.20</td>\n",
       "      <td>0.54</td>\n",
       "      <td>25.60</td>\n",
       "      <td>-0.14</td>\n",
       "      <td>28.71</td>\n",
       "      <td>-0.24</td>\n",
       "      <td>27.08</td>\n",
       "      <td>-0.25</td>\n",
       "    </tr>\n",
       "    <tr>\n",
       "      <th>475</th>\n",
       "      <td>2021</td>\n",
       "      <td>8</td>\n",
       "      <td>20.85</td>\n",
       "      <td>0.19</td>\n",
       "      <td>24.80</td>\n",
       "      <td>-0.24</td>\n",
       "      <td>28.61</td>\n",
       "      <td>-0.21</td>\n",
       "      <td>26.43</td>\n",
       "      <td>-0.44</td>\n",
       "    </tr>\n",
       "    <tr>\n",
       "      <th>476</th>\n",
       "      <td>2021</td>\n",
       "      <td>9</td>\n",
       "      <td>20.45</td>\n",
       "      <td>0.12</td>\n",
       "      <td>24.59</td>\n",
       "      <td>-0.25</td>\n",
       "      <td>28.37</td>\n",
       "      <td>-0.41</td>\n",
       "      <td>26.44</td>\n",
       "      <td>-0.28</td>\n",
       "    </tr>\n",
       "    <tr>\n",
       "      <th>477</th>\n",
       "      <td>2021</td>\n",
       "      <td>10</td>\n",
       "      <td>20.53</td>\n",
       "      <td>-0.21</td>\n",
       "      <td>24.42</td>\n",
       "      <td>-0.53</td>\n",
       "      <td>28.10</td>\n",
       "      <td>-0.67</td>\n",
       "      <td>25.89</td>\n",
       "      <td>-0.83</td>\n",
       "    </tr>\n",
       "  </tbody>\n",
       "</table>\n",
       "<p>478 rows × 10 columns</p>\n",
       "</div>"
      ],
      "text/plain": [
       "       YR  MON  NINO1+2  ANOM  NINO3  ANOM.1  NINO4  ANOM.2  NINO3.4  ANOM.3\n",
       "0    1982    1    24.29 -0.17  25.87    0.24  28.30    0.00    26.72    0.15\n",
       "1    1982    2    25.49 -0.58  26.38    0.01  28.21    0.11    26.70   -0.02\n",
       "2    1982    3    25.21 -1.31  26.98   -0.16  28.41    0.22    27.20   -0.02\n",
       "3    1982    4    24.50 -0.97  27.68    0.18  28.92    0.42    28.02    0.24\n",
       "4    1982    5    23.97 -0.23  27.79    0.71  29.49    0.70    28.54    0.69\n",
       "..    ...  ...      ...   ...    ...     ...    ...     ...      ...     ...\n",
       "473  2021    6    23.12  0.12  26.36   -0.18  28.91   -0.11    27.54   -0.22\n",
       "474  2021    7    22.20  0.54  25.60   -0.14  28.71   -0.24    27.08   -0.25\n",
       "475  2021    8    20.85  0.19  24.80   -0.24  28.61   -0.21    26.43   -0.44\n",
       "476  2021    9    20.45  0.12  24.59   -0.25  28.37   -0.41    26.44   -0.28\n",
       "477  2021   10    20.53 -0.21  24.42   -0.53  28.10   -0.67    25.89   -0.83\n",
       "\n",
       "[478 rows x 10 columns]"
      ]
     },
     "execution_count": 5,
     "metadata": {},
     "output_type": "execute_result"
    }
   ],
   "source": [
    "df"
   ]
  },
  {
   "cell_type": "code",
   "execution_count": 6,
   "id": "da71b291-433c-47fd-b7b8-939bf36cbc4a",
   "metadata": {},
   "outputs": [],
   "source": [
    "# 设定 DatetimeIndex\n",
    "df.index = df.apply(lambda x: datetime(int(x[0]), int(x[1]), 1), axis=1)\n",
    "df.drop(['YR', 'MON'], axis=1, inplace=True)"
   ]
  },
  {
   "cell_type": "code",
   "execution_count": 7,
   "id": "43ee875e-df6e-4dc5-aa7e-af6f2dceb7b0",
   "metadata": {},
   "outputs": [
    {
     "data": {
      "text/plain": [
       "DatetimeIndex(['1982-01-01', '1982-02-01', '1982-03-01', '1982-04-01',\n",
       "               '1982-05-01', '1982-06-01', '1982-07-01', '1982-08-01',\n",
       "               '1982-09-01', '1982-10-01',\n",
       "               ...\n",
       "               '2021-01-01', '2021-02-01', '2021-03-01', '2021-04-01',\n",
       "               '2021-05-01', '2021-06-01', '2021-07-01', '2021-08-01',\n",
       "               '2021-09-01', '2021-10-01'],\n",
       "              dtype='datetime64[ns]', length=478, freq=None)"
      ]
     },
     "execution_count": 7,
     "metadata": {},
     "output_type": "execute_result"
    }
   ],
   "source": [
    "df.index"
   ]
  },
  {
   "cell_type": "code",
   "execution_count": 8,
   "id": "16491b06-9b4d-4c48-a2ce-f82c0a5abe03",
   "metadata": {},
   "outputs": [],
   "source": [
    "nino3 = df[datetime(1981, 1, 1): datetime(2019, 12, 31)]['NINO3'].to_numpy()"
   ]
  },
  {
   "cell_type": "code",
   "execution_count": 9,
   "id": "8f04a387-5f59-42f5-ab91-2c8821162ee5",
   "metadata": {},
   "outputs": [
    {
     "data": {
      "text/plain": [
       "array([25.87, 26.38, 26.98, 27.68, 27.79, 27.46, 26.44, 26.15, 26.52,\n",
       "       27.11, 27.62, 28.39, 28.92, 28.92, 29.1 , 29.12, 28.97, 28.15,\n",
       "       26.62, 25.87, 25.24, 24.61, 24.17, 24.44, 24.82, 26.22, 27.12,\n",
       "       27.34, 26.46, 25.38, 24.96, 24.5 , 24.35, 23.95, 24.03, 23.7 ,\n",
       "       24.51, 25.19, 26.11, 26.52, 26.12, 25.6 , 24.74, 24.4 , 24.15,\n",
       "       24.15, 24.28, 24.29, 24.73, 25.81, 26.84, 27.17, 26.68, 26.3 ,\n",
       "       25.7 , 25.02, 25.25, 25.62, 25.92, 25.86, 26.69, 27.42, 28.2 ,\n",
       "       28.49, 28.22, 27.71, 27.07, 26.52, 26.57, 26.2 , 26.13, 26.2 ,\n",
       "       26.12, 26.55, 27.14, 26.73, 25.22, 24.46, 23.71, 23.37, 23.61,\n",
       "       23.17, 23.03, 23.07, 24.15, 25.61, 26.02, 26.67, 26.37, 26.08,\n",
       "       25.28, 24.56, 24.45, 24.49, 24.56, 24.71, 25.34, 26.37, 27.03,\n",
       "       27.67, 27.35, 26.45, 25.45, 25.06, 24.85, 24.9 , 24.82, 25.08,\n",
       "       25.65, 26.27, 26.99, 27.32, 27.58, 27.34, 26.57, 25.47, 25.05,\n",
       "       25.6 , 25.98, 26.52, 27.  , 27.67, 28.33, 28.72, 28.43, 26.66,\n",
       "       25.53, 24.7 , 24.52, 24.62, 24.79, 25.01, 25.56, 26.61, 27.54,\n",
       "       28.45, 28.16, 27.11, 25.77, 24.93, 24.97, 25.21, 25.17, 25.32,\n",
       "       25.71, 26.07, 26.89, 27.06, 26.97, 26.5 , 25.19, 24.71, 24.81,\n",
       "       25.53, 25.87, 26.07, 26.34, 26.87, 27.08, 27.1 , 26.4 , 26.2 ,\n",
       "       25.42, 24.33, 24.02, 24.01, 24.03, 24.19, 24.96, 25.72, 26.71,\n",
       "       26.72, 26.33, 25.89, 25.35, 24.6 , 24.37, 24.37, 24.38, 24.2 ,\n",
       "       24.7 , 25.75, 26.98, 27.59, 28.06, 28.14, 28.01, 27.84, 27.84,\n",
       "       28.17, 28.55, 28.76, 28.94, 28.93, 29.14, 29.09, 28.17, 26.  ,\n",
       "       25.24, 24.63, 24.19, 24.06, 24.11, 23.86, 24.41, 25.57, 26.67,\n",
       "       26.66, 26.44, 25.59, 24.85, 24.02, 23.72, 23.75, 23.46, 23.54,\n",
       "       23.88, 25.31, 26.61, 27.46, 26.8 , 25.84, 25.13, 24.47, 24.35,\n",
       "       24.41, 24.17, 24.43, 24.99, 26.06, 27.23, 27.52, 26.89, 26.35,\n",
       "       25.43, 24.72, 24.27, 24.45, 24.35, 24.6 , 25.09, 26.21, 27.22,\n",
       "       27.56, 27.24, 27.06, 26.03, 25.47, 25.54, 25.85, 26.37, 26.48,\n",
       "       26.38, 26.7 , 27.28, 27.15, 26.14, 25.83, 25.75, 25.04, 24.97,\n",
       "       25.33, 25.4 , 25.56, 25.92, 26.46, 27.16, 27.37, 26.72, 26.27,\n",
       "       25.41, 25.05, 25.17, 25.32, 25.46, 25.77, 25.89, 26.2 , 27.01,\n",
       "       27.77, 27.48, 26.81, 25.93, 25.19, 24.57, 24.69, 24.28, 24.28,\n",
       "       25.  , 26.08, 26.54, 27.25, 27.04, 26.44, 25.8 , 25.45, 25.74,\n",
       "       25.96, 26.07, 26.36, 26.5 , 26.45, 26.79, 27.13, 26.35, 25.83,\n",
       "       24.79, 23.86, 23.52, 23.36, 23.17, 23.59, 24.13, 25.05, 26.56,\n",
       "       27.18, 27.08, 26.53, 26.12, 25.63, 25.09, 24.79, 24.75, 24.6 ,\n",
       "       25.03, 25.85, 26.44, 27.39, 27.4 , 27.12, 26.56, 25.94, 25.66,\n",
       "       25.73, 26.23, 26.67, 26.63, 27.12, 27.73, 28.05, 26.97, 25.75,\n",
       "       24.53, 23.87, 23.59, 23.25, 23.4 , 23.5 , 24.31, 25.55, 26.39,\n",
       "       27.18, 26.94, 26.54, 25.61, 24.58, 24.22, 23.97, 23.89, 24.2 ,\n",
       "       24.9 , 26.19, 26.92, 27.58, 27.23, 27.09, 26.54, 25.72, 25.28,\n",
       "       24.93, 25.11, 24.91, 25.06, 25.9 , 27.21, 27.35, 26.39, 25.8 ,\n",
       "       24.97, 24.44, 24.72, 24.7 , 24.81, 25.1 , 25.26, 25.56, 26.9 ,\n",
       "       27.73, 27.69, 27.32, 26.27, 25.51, 25.31, 25.58, 25.88, 25.94,\n",
       "       25.99, 26.55, 27.29, 28.17, 28.28, 28.1 , 27.79, 27.33, 27.48,\n",
       "       27.58, 27.91, 27.99, 28.21, 28.36, 28.7 , 28.34, 27.11, 26.31,\n",
       "       25.14, 24.53, 24.67, 24.47, 24.58, 24.78, 25.61, 27.  , 27.7 ,\n",
       "       28.09, 27.6 , 26.73, 25.85, 24.82, 24.17, 24.28, 23.92, 24.05,\n",
       "       24.48, 25.36, 26.37, 27.12, 26.94, 26.72, 26.05, 25.14, 25.2 ,\n",
       "       25.78, 26.02, 26.12, 26.17, 26.91, 27.89, 28.17, 27.69, 26.81,\n",
       "       25.68, 24.89, 24.61, 25.12, 25.46, 25.47])"
      ]
     },
     "execution_count": 9,
     "metadata": {},
     "output_type": "execute_result"
    }
   ],
   "source": [
    "nino3"
   ]
  },
  {
   "cell_type": "code",
   "execution_count": 10,
   "id": "42a08f6a-9ac8-45f4-800e-e7e160cde164",
   "metadata": {},
   "outputs": [
    {
     "data": {
      "text/plain": [
       "0.1543925491769251"
      ]
     },
     "execution_count": 10,
     "metadata": {},
     "output_type": "execute_result"
    }
   ],
   "source": [
    "# 偏度系数\n",
    "sp.stats.skew(nino3)"
   ]
  },
  {
   "cell_type": "code",
   "execution_count": 11,
   "id": "07baf56d-7a18-4efd-be70-4bdb5aea83c3",
   "metadata": {},
   "outputs": [
    {
     "data": {
      "text/plain": [
       "-0.6567643258491644"
      ]
     },
     "execution_count": 11,
     "metadata": {},
     "output_type": "execute_result"
    }
   ],
   "source": [
    "# 峰峰度系\n",
    "sp.stats.kurtosis(nino3)"
   ]
  },
  {
   "cell_type": "markdown",
   "id": "79aa5fab-68a8-49e4-b0fa-e0faceb6ce67",
   "metadata": {},
   "source": [
    "查看数据符合正态情况"
   ]
  },
  {
   "cell_type": "code",
   "execution_count": 12,
   "id": "ca91a578-d047-4f0f-92c2-0477ced1d072",
   "metadata": {},
   "outputs": [],
   "source": [
    "s = pd.DataFrame(nino3, columns=['value'])"
   ]
  },
  {
   "cell_type": "code",
   "execution_count": 15,
   "id": "1d3b1057-7374-4c5f-872f-7687d5d3bd2a",
   "metadata": {
    "pycharm": {
     "is_executing": true
    }
   },
   "outputs": [
    {
     "data": {
      "text/plain": [
       "<AxesSubplot:>"
      ]
     },
     "execution_count": 15,
     "metadata": {},
     "output_type": "execute_result"
    },
    {
     "data": {
      "image/png": "[encoded data removed]",
      "text/plain": [
       "<Figure size 720x432 with 3 Axes>"
      ]
     },
     "metadata": {
      "needs_background": "light"
     },
     "output_type": "display_data"
    }
   ],
   "source": [
    "fig = plt.figure(figsize = (10,6))\n",
    "ax1 = fig.add_subplot(2, 1, 1)\n",
    "ax1.scatter(s.index, s.values)\n",
    "plt.grid()\n",
    "\n",
    "ax2 = fig.add_subplot(2, 1, 2)\n",
    "s.hist(bins=30, alpha=0.5, ax=ax2)\n",
    "s.plot(kind='kde', secondary_y=True, ax=ax2)"
   ]
  },
  {
   "cell_type": "code",
   "execution_count": 14,
   "id": "e197f915-f502-4bb4-9ac0-f87458ba6147",
   "metadata": {
    "pycharm": {
     "is_executing": true
    }
   },
   "outputs": [
    {
     "data": {
      "text/plain": [
       "KstestResult(statistic=0.044214674336053694, pvalue=0.3251480886549838)"
      ]
     },
     "execution_count": 14,
     "metadata": {},
     "output_type": "execute_result"
    }
   ],
   "source": [
    "u = s['value'].mean()  # 计算均值\n",
    "std = s['value'].std()  # 计算标准差\n",
    "sp.stats.kstest(s['value'], 'norm', (u, std))"
   ]
  },
  {
   "cell_type": "markdown",
   "id": "7af4d0c0-b00d-4271-843b-4713ba49aab4",
   "metadata": {},
   "source": [
    "根据 $K-S$ 检验，$pvalue > 0.05$ 表示 $NINO3$ 符合正态分布，可以进行正态分布的相关"
   ]
  }
 ],
 "metadata": {
  "kernelspec": {
   "display_name": "qb-test",
   "language": "python",
   "name": "qb-test"
  },
  "language_info": {
   "codemirror_mode": {
    "name": "ipython",
    "version": 3
   },
   "file_extension": ".py",
   "mimetype": "text/x-python",
   "name": "python",
   "nbconvert_exporter": "python",
   "pygments_lexer": "ipython3",
   "version": "3.7.11"
  }
 },
 "nbformat": 4,
 "nbformat_minor": 5
}
