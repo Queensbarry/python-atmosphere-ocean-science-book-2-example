{
 "cells": [
  {
   "cell_type": "markdown",
   "id": "9932e904-e9c4-4300-8fa2-ca62efff7533",
   "metadata": {},
   "source": [
    "计算某气象站某日逐时（0~24h）2m 气温（℃）和边界层高度（m）的协方差"
   ]
  },
  {
   "cell_type": "code",
   "execution_count": 1,
   "id": "3a8aea39-1e5d-4412-8994-1f9f4d04e5fe",
   "metadata": {},
   "outputs": [],
   "source": [
    "import numpy as np"
   ]
  },
  {
   "cell_type": "code",
   "execution_count": 2,
   "id": "a81284d7-f78a-45ca-bf07-587b4afc7a8e",
   "metadata": {},
   "outputs": [],
   "source": [
    "a = [\n",
    "    6.3, 5.8, 5.3, 4.7, 4.2, 3.7, 3.3, 2.7, 5.3, 8.5,\n",
    "    11.3, 11.8, 11.1, 10.3, 9.9, 9.7, 8.8, 7.6, 6.3, 4.8,\n",
    "    3.6, 2.7, 2.1, 1.6\n",
    "]\n",
    "b = [\n",
    "    270.3, 298.4, 297.2, 274.4, 189.1, 137.4, 126.4, 120.2, 143.9, 103.4,\n",
    "    327.5, 686.4, 786.4, 825.9, 1011.5, 1004.2, 926.4, 845.1, 766.1, 720.0,\n",
    "    644.8, 622.4, 606.7, 569.4\n",
    "]"
   ]
  },
  {
   "cell_type": "code",
   "execution_count": 3,
   "id": "00aa9565-48ea-470a-bff1-a1930bc42e5b",
   "metadata": {},
   "outputs": [
    {
     "data": {
      "text/plain": "443.68481884057957"
     },
     "execution_count": 3,
     "metadata": {},
     "output_type": "execute_result"
    }
   ],
   "source": [
    "np.cov(a, b)[0, 1]"
   ]
  },
  {
   "cell_type": "markdown",
   "id": "f403541c-1d4d-4798-b36f-0829e6f8d557",
   "metadata": {},
   "source": [
    "使用 `numpy` 时，计算出的协方差和维度相关，例如上述例子中，计算得出的协方差矩阵为\n",
    "$$\n",
    "\\left[\n",
    "\\begin{matrix}\n",
    "cov(x, x) & cov(x, y) \\\\\n",
    "cov(y, x) & cov(y, y)\n",
    "\\end{matrix}\n",
    "\\right]\n",
    "$$"
   ]
  },
  {
   "cell_type": "markdown",
   "id": "46e80887-f917-4792-b580-213b0c72e909",
   "metadata": {},
   "source": [
    "因此，要计算 $cov(x, y)$ 时需要取第一行第二个"
   ]
  }
 ],
 "metadata": {
  "kernelspec": {
   "display_name": "qb-test",
   "language": "python",
   "name": "qb-test"
  },
  "language_info": {
   "codemirror_mode": {
    "name": "ipython",
    "version": 3
   },
   "file_extension": ".py",
   "mimetype": "text/x-python",
   "name": "python",
   "nbconvert_exporter": "python",
   "pygments_lexer": "ipython3",
   "version": "3.7.11"
  }
 },
 "nbformat": 4,
 "nbformat_minor": 5
}