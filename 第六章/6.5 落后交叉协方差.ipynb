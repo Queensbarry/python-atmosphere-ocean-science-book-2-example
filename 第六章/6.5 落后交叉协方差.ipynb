{
 "cells": [
  {
   "cell_type": "markdown",
   "id": "7f801e9f-562f-4724-8e08-2ccb8c5de2c8",
   "metadata": {},
   "source": [
    "计算某气象站某日逐时（0~24h）2m 气温（℃）和边界层高度（m）落后 2h 的落后交叉协方差"
   ]
  },
  {
   "cell_type": "code",
   "execution_count": 1,
   "id": "0b83eaaa-282f-414c-969f-cca88d05be63",
   "metadata": {},
   "outputs": [],
   "source": [
    "from qb.statistics.variance_analysis import cross_cov"
   ]
  },
  {
   "cell_type": "code",
   "execution_count": 2,
   "id": "7a172c6a-20c9-4bb5-92ba-661489ff21e0",
   "metadata": {},
   "outputs": [],
   "source": [
    "a = [\n",
    "    6.3, 5.8, 5.3, 4.7, 4.2, 3.7, 3.3, 2.7, 5.3, 8.5,\n",
    "    11.3, 11.8, 11.1, 10.3, 9.9, 9.7, 8.8, 7.6, 6.3, 4.8,\n",
    "    3.6, 2.7, 2.1, 1.6\n",
    "]\n",
    "b = [\n",
    "    270.3, 298.4, 297.2, 274.4, 189.1, 137.4, 126.4, 120.2, 143.9, 103.4,\n",
    "    327.5, 686.4, 786.4, 825.9, 1011.5, 1004.2, 926.4, 845.1, 766.1, 720.0,\n",
    "    644.8, 622.4, 606.7, 569.4\n",
    "]"
   ]
  },
  {
   "cell_type": "code",
   "execution_count": 3,
   "id": "68639bc1-0ca2-49eb-b2e6-43d1c2c1e9ea",
   "metadata": {},
   "outputs": [
    {
     "data": {
      "text/plain": "682.0919994212961"
     },
     "execution_count": 3,
     "metadata": {},
     "output_type": "execute_result"
    }
   ],
   "source": [
    "cross_cov(a, b, tau=2, bias=True)"
   ]
  },
  {
   "cell_type": "markdown",
   "id": "7ccb438a-8dfb-4d06-85ff-3a87a4326773",
   "metadata": {},
   "source": [
    "> 当 `bias=True` 时为简单估计，默认为无偏估计"
   ]
  }
 ],
 "metadata": {
  "kernelspec": {
   "display_name": "qb-test",
   "language": "python",
   "name": "qb-test"
  },
  "language_info": {
   "codemirror_mode": {
    "name": "ipython",
    "version": 3
   },
   "file_extension": ".py",
   "mimetype": "text/x-python",
   "name": "python",
   "nbconvert_exporter": "python",
   "pygments_lexer": "ipython3",
   "version": "3.7.11"
  }
 },
 "nbformat": 4,
 "nbformat_minor": 5
}